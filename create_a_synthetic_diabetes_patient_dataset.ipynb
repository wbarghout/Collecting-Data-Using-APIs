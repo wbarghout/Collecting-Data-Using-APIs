{
  "nbformat": 4,
  "nbformat_minor": 0,
  "metadata": {
    "colab": {
      "provenance": [],
      "authorship_tag": "ABX9TyPqUErqwFZKTu9Wtw4BAclb",
      "include_colab_link": true
    },
    "kernelspec": {
      "name": "python3",
      "display_name": "Python 3"
    },
    "language_info": {
      "name": "python"
    }
  },
  "cells": [
    {
      "cell_type": "markdown",
      "metadata": {
        "id": "view-in-github",
        "colab_type": "text"
      },
      "source": [
        "<a href=\"https://colab.research.google.com/github/wbarghout/Collecting-Data-Using-APIs/blob/main/create_a_synthetic_diabetes_patient_dataset.ipynb\" target=\"_parent\"><img src=\"https://colab.research.google.com/assets/colab-badge.svg\" alt=\"Open In Colab\"/></a>"
      ]
    },
    {
      "cell_type": "code",
      "execution_count": 2,
      "metadata": {
        "colab": {
          "base_uri": "https://localhost:8080/"
        },
        "id": "UwrSCxN36P6J",
        "outputId": "bbb42ad9-8156-45e7-e0f5-417e01a32678"
      },
      "outputs": [
        {
          "output_type": "stream",
          "name": "stdout",
          "text": [
            "Dataset generated!\n"
          ]
        }
      ],
      "source": [
        "import pandas as pd\n",
        "import numpy as np\n",
        "from datetime import datetime, timedelta\n",
        "\n",
        "# Set seed for reproducibility\n",
        "np.random.seed(42)\n",
        "\n",
        "# Generate 100,000 observations\n",
        "n = 100000\n",
        "\n",
        "# --- Generate Clean Data First ---\n",
        "data = {\n",
        "    # Date of visit (past 2 years)\n",
        "    \"Visit_Date\": pd.date_range(start='2022-01-01', end='2023-12-31', periods=n).date,\n",
        "\n",
        "    # Patient ID (with duplicates)\n",
        "    \"Patient_ID\": np.random.choice(np.arange(1000, 2000), size=n, replace=True),\n",
        "\n",
        "    # Age (skewed toward older adults)\n",
        "    \"Age\": np.clip(np.random.normal(loc=55, scale=15, size=n), 18, 100).astype(int),\n",
        "\n",
        "    # Gender (with typos and missing values)\n",
        "    \"Gender\": np.random.choice(['Male', 'Female', 'M', 'F', 'Other', ' ', np.nan],\n",
        "                              size=n, p=[0.35, 0.35, 0.1, 0.1, 0.05, 0.03, 0.02]),\n",
        "\n",
        "    # Diagnosis (diabetes-related with noise)\n",
        "    \"Diagnosis\": np.random.choice(\n",
        "        ['Type 1 Diabetes', 'Type 2 Diabetes', 'Prediabetes', 'Gestational Diabetes', ' ', 'Unknown', np.nan],\n",
        "        size=n, p=[0.4, 0.45, 0.05, 0.03, 0.03, 0.03, 0.01]\n",
        "    ),\n",
        "\n",
        "    # Insurance status (boolean with missing)\n",
        "    \"Has_Insurance\": np.random.choice(['Yes', 'No', np.nan], size=n, p=[0.7, 0.25, 0.05]),\n",
        "\n",
        "    # Postcode (synthetic UK-like codes with missing)\n",
        "    \"Postcode\": [f\"{chr(65 + np.random.randint(0, 26))}{chr(65 + np.random.randint(0, 26))}\"\n",
        "                f\"{np.random.randint(1, 20):02d} {np.random.randint(1, 10):02d}\"\n",
        "                f\"{chr(65 + np.random.randint(0, 26))}{chr(65 + np.random.randint(0, 26))}\"\n",
        "                if np.random.rand() > 0.05 else np.nan for _ in range(n)],\n",
        "\n",
        "    # Total cost (skewed with outliers)\n",
        "    \"Total_Cost\": np.abs(np.random.gamma(shape=2, scale=50, size=n)).round(2),\n",
        "}\n",
        "\n",
        "# Time-related columns (in minutes)\n",
        "time_columns = [\n",
        "    \"Registration time\", \"Nursing time\", \"Laboratory time\",\n",
        "    \"Consultation time\", \"Pharmacy time\"\n",
        "]\n",
        "for col in time_columns:\n",
        "    data[col] = np.abs(np.random.normal(loc=30, scale=15, size=n)).round(1)\n",
        "\n",
        "# Convert to DataFrame\n",
        "df = pd.DataFrame(data)\n",
        "\n",
        "# --- Introduce Data Quality Issues ---\n",
        "\n",
        "# 1. Missing Data (5% missing in random columns)\n",
        "for col in ['Diagnosis', 'Postcode', 'Has_Insurance']:\n",
        "    df.loc[df.sample(frac=0.05, random_state=42).index, col] = np.nan\n",
        "\n",
        "# 2. Duplicate Rows (1% duplicates)\n",
        "duplicates = df.sample(frac=0.01, random_state=42)\n",
        "df = pd.concat([df, duplicates], ignore_index=True)\n",
        "\n",
        "# 3. Inconsistent Gender Labels (e.g., \"M\" vs \"Male\")\n",
        "df['Gender'] = df['Gender'].replace({'M': 'Male', 'F': 'Female'})\n",
        "\n",
        "# 4. Invalid Diagnoses (introduce typos)\n",
        "df.loc[df.sample(frac=0.02, random_state=42).index, 'Diagnosis'] = 'Type 3 Diabetes'\n",
        "\n",
        "# 5. Negative Total_Cost (invalid values)\n",
        "df.loc[df.sample(frac=0.01, random_state=42).index, 'Total_Cost'] *= -1\n",
        "\n",
        "# 6. Outliers in Time Columns\n",
        "for col in time_columns:\n",
        "    # Get the indices of the sample\n",
        "    sample_indices = df.sample(frac=0.03, random_state=42).index\n",
        "\n",
        "    # Generate random values with the correct size\n",
        "    random_values = np.random.randint(200, 500, size=len(sample_indices))\n",
        "\n",
        "    # Assign the values to the selected rows and column\n",
        "    df.loc[sample_indices, col] = random_values\n",
        "\n",
        "# --- Save to CSV ---\n",
        "df.to_csv('diabetes_patient_dataset.csv', index=False)\n",
        "print(\"Dataset generated!\")"
      ]
    }
  ]
}